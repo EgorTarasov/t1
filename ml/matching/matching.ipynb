{
 "cells": [
  {
   "cell_type": "code",
   "execution_count": null,
   "id": "e811bde8-6f76-44b3-82a0-1930ffeb9603",
   "metadata": {
    "tags": []
   },
   "outputs": [],
   "source": [
    "!pip install accelerate"
   ]
  },
  {
   "cell_type": "code",
   "execution_count": null,
   "id": "386d518d-febe-4b94-83c4-280abbb53916",
   "metadata": {
    "tags": []
   },
   "outputs": [],
   "source": [
    "!pip install sentence-transformers"
   ]
  },
  {
   "cell_type": "code",
   "execution_count": 20,
   "id": "38a3f3b7-f773-4ec2-907e-5bc8f4d3a960",
   "metadata": {
    "execution": {
     "iopub.execute_input": "2024-10-06T16:06:02.739711Z",
     "iopub.status.busy": "2024-10-06T16:06:02.739097Z",
     "iopub.status.idle": "2024-10-06T16:06:03.214246Z",
     "shell.execute_reply": "2024-10-06T16:06:03.213761Z",
     "shell.execute_reply.started": "2024-10-06T16:06:02.739690Z"
    },
    "tags": []
   },
   "outputs": [],
   "source": [
    "from typing import List, Dict\n",
    "\n",
    "from transformers import pipeline\n",
    "\n",
    "\n",
    "class NERModel:\n",
    "    def __init__(self, model_folder: str):\n",
    "        self.model = pipeline(\"ner\", model=model_folder, aggregation_strategy=\"max\")\n",
    "\n",
    "    def __call__(self, text: str) -> List[Dict]:\n",
    "        return self.model(text)\n"
   ]
  },
  {
   "cell_type": "code",
   "execution_count": 21,
   "id": "4b0f7058-91dd-4738-8171-daaadccbba5c",
   "metadata": {
    "execution": {
     "iopub.execute_input": "2024-10-06T16:06:04.369088Z",
     "iopub.status.busy": "2024-10-06T16:06:04.368567Z",
     "iopub.status.idle": "2024-10-06T16:06:04.451322Z",
     "shell.execute_reply": "2024-10-06T16:06:04.450759Z",
     "shell.execute_reply.started": "2024-10-06T16:06:04.369069Z"
    },
    "tags": []
   },
   "outputs": [
    {
     "name": "stderr",
     "output_type": "stream",
     "text": [
      "Hardware accelerator e.g. GPU is available in the environment, but no `device` argument is passed to the `Pipeline` object. Model will be on CPU.\n"
     ]
    }
   ],
   "source": [
    "extractor = NERModel('t1/ml/json_extraction/model_files')"
   ]
  },
  {
   "cell_type": "code",
   "execution_count": 22,
   "id": "93718c30-62d7-4ba5-a324-219029a50317",
   "metadata": {
    "execution": {
     "iopub.execute_input": "2024-10-06T16:06:26.025063Z",
     "iopub.status.busy": "2024-10-06T16:06:26.024519Z",
     "iopub.status.idle": "2024-10-06T16:06:26.726363Z",
     "shell.execute_reply": "2024-10-06T16:06:26.725713Z",
     "shell.execute_reply.started": "2024-10-06T16:06:26.025043Z"
    },
    "tags": []
   },
   "outputs": [],
   "source": []
  },
  {
   "cell_type": "code",
   "execution_count": 24,
   "id": "c8b3166b-a384-4b10-a73d-deb0f1b00ef0",
   "metadata": {
    "execution": {
     "iopub.execute_input": "2024-10-06T16:09:59.300794Z",
     "iopub.status.busy": "2024-10-06T16:09:59.300333Z",
     "iopub.status.idle": "2024-10-06T16:09:59.303620Z",
     "shell.execute_reply": "2024-10-06T16:09:59.303190Z",
     "shell.execute_reply.started": "2024-10-06T16:09:59.300773Z"
    },
    "tags": []
   },
   "outputs": [],
   "source": [
    "def extract_experience_items(entities):\n",
    "    experience_items = [item['word'] for item in entities if item['entity_group'] == 'experienceItem']\n",
    "    return ' '.join(experience_items).replace(' ,', ',').replace(' .', '.')"
   ]
  },
  {
   "cell_type": "code",
   "execution_count": 9,
   "id": "02bc14e2-8fa1-4678-821c-ba557f412da8",
   "metadata": {
    "execution": {
     "iopub.execute_input": "2024-10-06T15:57:56.241177Z",
     "iopub.status.busy": "2024-10-06T15:57:56.240584Z",
     "iopub.status.idle": "2024-10-06T15:57:59.769060Z",
     "shell.execute_reply": "2024-10-06T15:57:59.768423Z",
     "shell.execute_reply.started": "2024-10-06T15:57:56.241156Z"
    },
    "tags": []
   },
   "outputs": [],
   "source": [
    "from sentence_transformers import SentenceTransformer\n",
    "from transformers import AutoTokenizer\n",
    "\n",
    "model = SentenceTransformer(\"intfloat/multilingual-e5-large\")\n",
    "#tokenizer = AutoTokenizer(\"intfloat/multilingual-e5-large\")"
   ]
  },
  {
   "cell_type": "code",
   "execution_count": 9,
   "id": "471843d3-6d7a-4b6d-8938-73d842ef8526",
   "metadata": {
    "execution": {
     "iopub.execute_input": "2024-10-06T12:18:41.361016Z",
     "iopub.status.busy": "2024-10-06T12:18:41.360358Z",
     "iopub.status.idle": "2024-10-06T12:18:41.363529Z",
     "shell.execute_reply": "2024-10-06T12:18:41.363105Z",
     "shell.execute_reply.started": "2024-10-06T12:18:41.360993Z"
    },
    "tags": []
   },
   "outputs": [],
   "source": [
    "from sklearn.metrics.pairwise import cosine_similarity"
   ]
  },
  {
   "cell_type": "code",
   "execution_count": 33,
   "id": "4c62c321-5878-4fa8-959c-03b2fc5158c0",
   "metadata": {
    "execution": {
     "iopub.execute_input": "2024-10-06T16:15:23.397748Z",
     "iopub.status.busy": "2024-10-06T16:15:23.397520Z",
     "iopub.status.idle": "2024-10-06T16:15:23.405235Z",
     "shell.execute_reply": "2024-10-06T16:15:23.404766Z",
     "shell.execute_reply.started": "2024-10-06T16:15:23.397729Z"
    },
    "tags": []
   },
   "outputs": [],
   "source": [
    "example_resumes = [\"\"\"\"uuid\": \"6561771c-7ef3-3e50-ab3a-ba8547201480\",\n",
    "      \"first_name\": \"Александра\",\n",
    "      \"last_name\": \"Панова\",\n",
    "      \"birth_date\": \"1995-01-01\",\n",
    "      \"country\": \"Россия\",\n",
    "      \"city\": \"Москва\",\n",
    "      \"about\": \" О себе: Java\\/Kotlin-разработчик, знаю Spring Boot, Hibernate, PostgreSQL, Liquibase, RabbitMQ, есть опыт MySQL, MongoDB, Freemarker, Webpack, считаю признаком зрелого проекта - наличие автотестов. Умею фиксить невоспроизводимые тестировщиками баги, восстанавливать сервера после других людей(при наличии ssh root). В свободное от работы время делаю pet-проекты на Java\\/Kotlin\\/Go, см. ниже. Java: * Spring: Spring Boot, Spring Data JPA, Spring Data JDBC, Spring Data Mongo, Spring Data R2DBC, Spring Rabbit, Spring Kafka, Spring Testing, Spring Security, Spring Session, GraalVM. JEE: JMS, JPA; JDBC, Hibernate Databases : MySQL, H2, MongoDB, PostgreSQL, DoltDB Caches: Redis, Hazelcast MQ\\/Log : RabbitMQ, Apache Qpid, ActiveMQ, Kafka, ksqlDB * Web Servers: Tomcat, Jetty, Undertow, Ktor * GraphQL : Spring GraphQL, Netflix DSG framework * Application Servers: Tomcat, Wildfly, Glassfish * OIDC: Keycloak * Testing frameworks: JUnit, TestNG, Rest Assured, Mockito, Spring Test, Testcontainers, Jmeter; * build tools: Maven, Gradle; * (De)serialization: XStream, JAXB, Jackson, JsonPath * JSF 2.0: PrimeFaces SCM : git, svn, TFS; CI : Jenkins, Travis, Gitlab CI, Github Actions Технологии и др: TDD, Design Patterns, DDD. Other programming languages: Groovy, Kotlin, Python. OS : Fedora, CentOS, Debian, Alpine Linux : systemd, journald, bash, ansible, supervisord VM : VMware Workstation, Oracle VM VirtualBox, Microsoft Virtual PC 2007, qemu Сontainerisation : Docker, Docker Compose, Kubernetes, Openshift, OKD Microservices : Consul, Feign Monitoring\\/Tracing : Prometheus, Grafana, ELK, Spring Cloud Sleuth, Open Metrics, Jaeger, OpenCensus, OpenTelemetry, Micrometer \",\n",
    "      \"key_skills\": null,\n",
    "      \"experienceItem\": [\n",
    "        {\n",
    "          \"starts\": \"2022-02-01\",\n",
    "          \"ends\": null,\n",
    "          \"employer\": \"ООО Компания ЮпитерХмельГлавЛизинг\",\n",
    "          \"city\": \"Дорохово\",\n",
    "          \"position\": \"Senior Backend Devloper\",\n",
    "          \"description\": \" Some common tasks with PostgreSQL, Spring Boot, RabbitMQ and Kafka. I created delivering telemetry (geo coordinates) through GraphQL subscriptions to m le app. I rewrote legacy unstable Event-Sourcing auth microservice to traditional blocking approach. Prototyping migration another git-like microservice onto DoltDB. Technical tasks with Camunda 7 - updating Camunda itself with Liquibase, cleaning up Camunda's history. PostgreSQL• Java Spring Framework • Spring Boot • GraphQL • Apache Kafka • Git • Kotlin • Camunda • RabbitMQ \"\n",
    "        },\n",
    "        {\n",
    "          \"starts\": \"2020-10-01\",\n",
    "          \"ends\": \"2022-02-01\",\n",
    "          \"employer\": \"ООО Север\",\n",
    "          \"city\": \"Дорохово\",\n",
    "          \"position\": \"Ведущий разработчик\",\n",
    "          \"description\": \" Исправил код работы с Hazelcast, удалил ImageMagick, отказался от Kafka, удалил самописную реализацию CQRS, отрефакторил базу - разделил монотаблицу с запутанными структурами высокой степени вложенности (попытка сделать mongo на jsonb) на несколько таблиц в соответствии с бизнес сущностями. Оптимизировал SQL запросы (рефакторил базу для создания более подходящей под большие объёмы схемы). Написал сериализатор Spring Statemachine, сохраняющий состояние в таблицу как jsonb (дефолтный сохраняет через Kryo - затрудняет обновления версий). Организовывал процесс деплоя вышеперечисленных доработок в прод - координировал 2 команды сопровождения и команду нагрузочного тестирования. Kotlin • Java • PostgreSQL • Kubernetes • Spring Boot • Docker • Hibernate • Junit • MongoDB \"\n",
    "        },\n",
    "        {\n",
    "          \"starts\": \"2019-11-01\",\n",
    "          \"ends\": \"2020-10-01\",\n",
    "          \"employer\": \"ПАО АвтоМобайл\",\n",
    "          \"city\": \"Красногорск\",\n",
    "          \"position\": \"Старший разработчик\",\n",
    "          \"description\": \" Обновил MongoDB 3-&gt;4 на проде, внедрил (интеграционные) автотесты(JUnit 5, Spring Boot, Spring Test, Freemarker), вывел из эксплуатации 1 микросервис. Сделал версионирование позиций, подобно MVCC в PostgreSQL. Java • Spring Boot • Apache Kafka • RabbitMQ • JUnit • MongoDB • Kubernetes \"\n",
    "        },\n",
    "        {\n",
    "          \"starts\": \"2017-08-01\",\n",
    "          \"ends\": \"2019-11-01\",\n",
    "          \"employer\": \"ПАО РемРадио\",\n",
    "          \"city\": \"Луховицы\",\n",
    "          \"position\": \"Эксперт\",\n",
    "          \"description\": \" Интеграция с партнёрами и вендорами, поддержка и рефакторинг микросервисной архитектуры. Удалил тонны вендорского кода, прорефакторил Spring Security часть, покрыл её тестами. \\\"Схлопнул\\\" 5 микросервисов в 1 для упрощения отладки и тестирования. Удалил привязку к вендорскому решению (реверс-инжиниринг с помощью tcpdump). Внедрил тесты с базой с помощью testcontainers. Настроил GC в docker registry. Привел к общему виду механизм обработки исключений (@ExceptionHandler). Поднял мастер-ноду дженкинса, перенес на нее таски со старой. Поднял gitea для Spring Cloud Config. Удалил gitea. Внедрил Spring Cloud Gateway. Настроил nexus. Поддерживал кластер kubernetes. Лидил 3 продуктовые команды разработки и онбордил новых сотрудников. Java • Spring Boot • RabbitMQ • Hibernate • PostgreSQL • Bash • Jenkins • JUnit \"\n",
    "        },\n",
    "        {\n",
    "          \"starts\": \"2015-04-01\",\n",
    "          \"ends\": \"2017-08-01\",\n",
    "          \"employer\": \"МКК ВостокВод\",\n",
    "          \"city\": \"Мытищи\",\n",
    "          \"position\": \"Инженер-программист\",\n",
    "          \"description\": \" Написание компонентов высоконагруженной платформы (отправка пушей, рассылка почты, методы работы с профилем пользователя); Настроил Jenkins, сделал docker-compose сборки проекта, состоящего из 10 модулей, привёл в порядок gradle-скрипты, объединил эти модули в один репозиторий, js админка собирается gradle-таской gradle-node-plugin; Внедрил интеграционные автотесты на связке Groovy + Rest Assured, установил это на Jenkins. Java • Spring Boot • MongoDB • PostgreSQL • Jenkins • JUnit • Python \"\n",
    "        },\n",
    "        {\n",
    "          \"starts\": \"2014-08-01\",\n",
    "          \"ends\": \"2015-04-01\",\n",
    "          \"employer\": \"ООО Компания ТекстильТранс\",\n",
    "          \"city\": \"Шаховская\",\n",
    "          \"position\": \"Программист\",\n",
    "          \"description\": \" Обязанности: - Внедрение работы с виртуальными машинами VMware Workstation через ant-vix-tasks в тестовый фреймворк ... и последующий отказ от тасков в пользу vmrun; - Расширение функциональности тестового фреймворка для новых сценариев. Java • VMware \"\n",
    "        }\n",
    "      ],\n",
    "      \"languageItems\": [\n",
    "        \"Русский\",\n",
    "        \"Английский\"\n",
    "      ],\n",
    "      \"educationItem\": [\n",
    "        {\n",
    "          \"year\": 2015,\n",
    "          \"organization\": \"МИРЭА\",\n",
    "          \"faculty\": \"Вычислительных машин и систем; ВМС\",\n",
    "          \"specialty\": \"\",\n",
    "          \"result\": \"\",\n",
    "          \"education_type\": \"Основное\",\n",
    "          \"education_level\": \"Высшее\"\n",
    "        }\n",
    "      ]\n",
    "    }\"\"\", \"\"\"\"\"uuid\": \"3e66410d-5eca-38fa-8008-90801fbd9569\",\n",
    "        \"first_name\": \"Светлана\",\n",
    "        \"last_name\": \"Бобылёв\",\n",
    "        \"birth_date\": \"1991-05-31\",\n",
    "        \"country\": \"Россия\",\n",
    "        \"city\": \"Санкт-Петербург\",\n",
    "        \"about\": null,\n",
    "        \"key_skills\": \"XML, HTML, CSS, SQL, Atlassian Confluence, Анализ требований, JUnit, JSON, HTTP, UML, BPMN, Java EE, Аналитика, API, Atlassian Jira, Hibernate ORM, Postman, Техническая документация\",\n",
    "        \"experienceItem\": [\n",
    "          {\n",
    "            \"starts\": \"2021-04-01\",\n",
    "            \"ends\": \"2023-07-01\",\n",
    "            \"employer\": \"ООО ДизайнМор\",\n",
    "            \"city\": \"Серпухов\",\n",
    "            \"position\": \"Системный аналитик\",\n",
    "            \"description\": \"Работа над ПО для отдела КИПиА: 1. Составление User Story и Use Cases во время планирования разработки. 2. Работа с данными на основе SQL-запросов. 3. Применение ER-модели для структурирования данных 4. BPMN 2.0 в качестве методологии моделирования бизнес-процессов. 5. Взаимодействие с заказчиком продукта. 6. Определение требований и критериев приемки к функциям ПО. 7. Постановка задач для исправления багов. 8. Работа с API, написание ТЗ. 9. Разработка структуры данных в форматах JSON, XML и XSD. 10. Формирование ТЗ после анализа процессов. 11. Описание взаимодействия объектов через UML. 12. Постановка задач на разработку функций продукта. 13. Использование Postman для тестирования различных запросов. 14. Разработка технической документации. 15. Применение Jira для задач и Confluence для документации. 16. Проектирование пользовательского опыта (интерфейсов). 17. Проведение сбора требований перед началом разработки. \"\n",
    "          },\n",
    "          {\n",
    "            \"starts\": \"2016-06-01\",\n",
    "            \"ends\": \"2021-04-01\",\n",
    "            \"employer\": \"ОАО АвтоМор\",\n",
    "            \"city\": \"Истра\",\n",
    "            \"position\": \"Специалист технологических процессов\",\n",
    "            \"description\": \"1. Установка, настройка и обслуживание контрольно-измерительных приборов и автоматических систем. 2. Осуществление контроля и измерения параметров технологических процессов. 3. Диагностика и устранение неисправностей в приборах и системах. 4. Программирование и настройка автоматических систем управления. 5. Проведение плановых технических обслуживаний и ремонтов. 6. Ведение документации и отчетности о проведенных работах. 7. Соблюдение требований по безопасности и охране труда при работе с приборами и системами. 8. Участие в разработке и внедрении новых технологических решений и систем автоматизации.\"\n",
    "          },\n",
    "          {\n",
    "            \"starts\": \"2013-11-01\",\n",
    "            \"ends\": \"2014-12-01\",\n",
    "            \"employer\": \"МКК Телеком\",\n",
    "            \"city\": \"Ногинск\",\n",
    "            \"position\": \"Системный администратор\",\n",
    "            \"description\": \"1. Установка и настройка серверного оборудования и программного обеспечения. 2. Управление и поддержка сетевой инфраструктуры, включая настройку и обслуживание коммутаторов, маршрутизаторов, межсетевых экранов и других сетевых устройств. 3. Установка и настройка операционных систем на серверах и рабочих станциях. 4. Управление пользователями и их правами доступа к системам и ресурсам. 5. Решение проблем сетевого и серверного оборудования, а также программного обеспечения. 6. Обеспечение безопасности сети и данных, включая установку и настройку системы защиты от вторжений и антивирусного программного обеспечения. 7. Поддержка пользователей, включая решение проблем с аппаратным и программным обеспечением, а также предоставление консультаций и обучение. 8. Настройка и ремонт профессионального косметологического оборудования 9. Прием и распределение товаров 10. Учет товаров 11. Организация хранения товаров 12. Контроль за сроками годности и качеством товаров\"\n",
    "          },\n",
    "          {\n",
    "            \"starts\": \"2013-01-01\",\n",
    "            \"ends\": \"2013-10-01\",\n",
    "            \"employer\": \"ООО Компания Асбоцемент\",\n",
    "            \"city\": \"Талдом\",\n",
    "            \"position\": \"Специалист технологических процессов\",\n",
    "            \"description\": \"1. Установка, настройка и обслуживание контрольно-измерительных приборов и автоматических систем. 2. Осуществление контроля и измерения параметров технологических процессов. 3. Диагностика и устранение неисправностей в приборах и системах. 4. Программирование и настройка автоматических систем управления. 5. Проведение плановых технических обслуживаний и ремонтов. 6. Ведение документации и отчетности о проведенных работах. 7. Соблюдение требований по безопасности и охране труда при работе с приборами и системами. 8. Участие в разработке и внедрении новых технологических решений и систем автоматизации.\"\n",
    "          }\n",
    "        ],\n",
    "        \"languageItems\": [\n",
    "          \"Русский\",\n",
    "          \"Английский\"\n",
    "        ],\n",
    "        \"educationItem\": [\n",
    "          {\n",
    "            \"year\": 2015,\n",
    "            \"organization\": \"Санкт-Петербургский государственный университет водных коммуникаций, Санкт-Петербург\",\n",
    "            \"faculty\": \"Кафедра вычислительных систем и информатики\",\n",
    "            \"specialty\": \"Информационные системы и технологи (Инженер-программист)\",\n",
    "            \"result\": \"\",\n",
    "            \"education_type\": \"Основное\",\n",
    "            \"education_level\": \"Высшее\"\n",
    "          },\n",
    "          {\n",
    "            \"year\": 2010,\n",
    "            \"organization\": \"КРУ, Котлас\",\n",
    "            \"faculty\": \"Среднее специальное\",\n",
    "            \"specialty\": \"Программист\",\n",
    "            \"result\": \"\",\n",
    "            \"education_type\": \"Основное\",\n",
    "            \"education_level\": \"Высшее\"\n",
    "          }\n",
    "        ]\n",
    "      }\"\"\"]"
   ]
  },
  {
   "cell_type": "code",
   "execution_count": 34,
   "id": "602d1738-5c00-479d-99d5-785b97c6f6ad",
   "metadata": {
    "execution": {
     "iopub.execute_input": "2024-10-06T16:15:24.494937Z",
     "iopub.status.busy": "2024-10-06T16:15:24.494448Z",
     "iopub.status.idle": "2024-10-06T16:15:24.498286Z",
     "shell.execute_reply": "2024-10-06T16:15:24.497802Z",
     "shell.execute_reply.started": "2024-10-06T16:15:24.494919Z"
    },
    "tags": []
   },
   "outputs": [],
   "source": [
    "example_vacancy = \"\"\"vacancy\": {\n",
    "    \"uuid\": \"8b9c8d16-c7f0-38a2-b80c-d94030c15a6f\",\n",
    "    \"name\": \"Java разработчик\",\n",
    "    \"keywords\": \"Kafka, Java, RxJava, Hystrix, MongoDB \",\n",
    "    \"description\": \"Требования: 4+ года опыта работы с Java 8+ или Kotlin 4+ года опыта работы с Spring и 2+ год работы с Spring Boot. Опыт работы с системами на микросервисной архитектуре (Spring Cloud, Kubernetes, Openshift или аналоги). Опыт работы с Docker. Опыт работы с 3-мя любыми из следующих технологий NoSQL (MongoDB, Elasticsearch, аналоги) SQL (PostgreSQL, Oracle, аналоги) Брокеры сообщений (Kafka, RabbitMQ, аналоги) Reactive programming (RxJava, Project Reactor) Cache (Redis, Hazelcast). Настройка CI\\/CD (GitlabCI, Jenkins, аналоги). Настройка средств мониторинга (Zabbix, Prometheus). Настройка средств логирования (Graylog, ELK). Будет хорошо, если кандидат: Знает все технологии из первого пункта; Участвовал в проработке архитектуры и может объяснить все решения на своем проекте; Готов драйвить техническое развитие систем, а не просто следовать текущим стандартам; Имеет дружеские отношения с DevOps, пайплайны, контейнеризация и оркестрация, Linux; Понимает микросервисную архитектуры и устройство распределенных систем; Участвовал в подборе и онбординге новых сотрудников; Умеет и хочет писать технические статьи. Развиваться и развивать коллег\\/комьюнити. Проводить как разовые тренинги, так и планировать долгие обучения. Что предстоит делать: Использовать самый современный технологический стэк для создания FinTech решений; Разрабатывать приложения, которые масштабируются на все дистанционные каналы банка (интернет-банк, мобильные приложения, платёжные сервисы и многое другое); Взаимодействовать с различными командами разработки, Data Science, поддержки и другими (поэтому необходимы хорошие навыки коммуникации или желание их развивать); Вносить свой вклад в развитие архитектуры, делать новое и оценивать старое. \"\"\""
   ]
  },
  {
   "cell_type": "code",
   "execution_count": 35,
   "id": "f651b970-038e-4346-ab76-f956ba92659b",
   "metadata": {
    "execution": {
     "iopub.execute_input": "2024-10-06T16:15:24.821371Z",
     "iopub.status.busy": "2024-10-06T16:15:24.821005Z",
     "iopub.status.idle": "2024-10-06T16:15:25.529391Z",
     "shell.execute_reply": "2024-10-06T16:15:25.528810Z",
     "shell.execute_reply.started": "2024-10-06T16:15:24.821354Z"
    },
    "tags": []
   },
   "outputs": [],
   "source": [
    "extracted_resume_0 = extractor(example_resumes[0])\n",
    "extracted_resume_1 = extractor(example_resumes[1])"
   ]
  },
  {
   "cell_type": "code",
   "execution_count": 36,
   "id": "abf70503-f7f7-473a-b7eb-c3b3c4cdf84e",
   "metadata": {
    "execution": {
     "iopub.execute_input": "2024-10-06T16:15:25.530497Z",
     "iopub.status.busy": "2024-10-06T16:15:25.530343Z",
     "iopub.status.idle": "2024-10-06T16:15:25.532875Z",
     "shell.execute_reply": "2024-10-06T16:15:25.532457Z",
     "shell.execute_reply.started": "2024-10-06T16:15:25.530481Z"
    },
    "tags": []
   },
   "outputs": [],
   "source": [
    "normilized_resume_0 = extract_experience_items(extracted_resume_0)\n",
    "normilized_resume_1 = extract_experience_items(extracted_resume_1)"
   ]
  },
  {
   "cell_type": "code",
   "execution_count": 42,
   "id": "221c1dd7-8ff6-429b-a48a-aaa567b59a83",
   "metadata": {
    "execution": {
     "iopub.execute_input": "2024-10-06T16:17:11.912591Z",
     "iopub.status.busy": "2024-10-06T16:17:11.911977Z",
     "iopub.status.idle": "2024-10-06T16:17:11.915479Z",
     "shell.execute_reply": "2024-10-06T16:17:11.915090Z",
     "shell.execute_reply.started": "2024-10-06T16:17:11.912570Z"
    },
    "tags": []
   },
   "outputs": [
    {
     "data": {
      "text/plain": [
       "'\" uuid \" : \" 6561771c - 7ef3 - 3e50 - ab3a - ba8547201480 \", \" first _ name \" : \" \", \" last _ name \" : \" \", \" birth _ date \" : \" - 01 - 01 \", \" country \" : \" \", \" \" : \", \" about \" : * * frameworks : JUnit, TestNG, Rest Assured, Mockito, Spring Test, Testcontainers, Jmeter ; * : Maven, ; * ( De ) serialization : XStream, JAXB, Jackson, JsonPath * JSF 2. 0 : PrimeFaces SCM : git, svn, TFS ; CI : Jenkins, Travis, Gitlab CI, Github Actions Технологии и др : TDD, Design Patterns, DDD. programming Groovy, Kotlin, Python. OS Fedora, CentOS, Debian, Alpine Linux : systemd, journald, bash, ansible, supervisord VM : VMware Workstation, Oracle VM VirtualBox, Microsoft Virtual PC'"
      ]
     },
     "execution_count": 42,
     "metadata": {},
     "output_type": "execute_result"
    }
   ],
   "source": [
    "normilized_resume_0"
   ]
  },
  {
   "cell_type": "code",
   "execution_count": 37,
   "id": "128621cd-1198-4f84-9022-ca645d4f3f29",
   "metadata": {
    "execution": {
     "iopub.execute_input": "2024-10-06T16:15:26.576601Z",
     "iopub.status.busy": "2024-10-06T16:15:26.576000Z",
     "iopub.status.idle": "2024-10-06T16:15:26.578891Z",
     "shell.execute_reply": "2024-10-06T16:15:26.578444Z",
     "shell.execute_reply.started": "2024-10-06T16:15:26.576581Z"
    },
    "tags": []
   },
   "outputs": [],
   "source": [
    "from sklearn.metrics.pairwise import cosine_similarity"
   ]
  },
  {
   "cell_type": "code",
   "execution_count": 38,
   "id": "e199fd35-37b7-46fb-a6b8-a1d98790e1bc",
   "metadata": {
    "execution": {
     "iopub.execute_input": "2024-10-06T16:15:27.026570Z",
     "iopub.status.busy": "2024-10-06T16:15:27.026021Z",
     "iopub.status.idle": "2024-10-06T16:15:27.084323Z",
     "shell.execute_reply": "2024-10-06T16:15:27.083871Z",
     "shell.execute_reply.started": "2024-10-06T16:15:27.026551Z"
    },
    "tags": []
   },
   "outputs": [],
   "source": [
    "embeddings_resume_0 = model.encode(normilized_resume_0)\n",
    "embeddings_resume_1 = model.encode(normilized_resume_1)\n",
    "embeddings_vacancy = model.encode(example_vacancy)"
   ]
  },
  {
   "cell_type": "code",
   "execution_count": 40,
   "id": "bbc6e7e9-41e8-4a1b-9730-8c80d9c404d1",
   "metadata": {
    "execution": {
     "iopub.execute_input": "2024-10-06T16:15:31.471014Z",
     "iopub.status.busy": "2024-10-06T16:15:31.470459Z",
     "iopub.status.idle": "2024-10-06T16:15:31.475197Z",
     "shell.execute_reply": "2024-10-06T16:15:31.474738Z",
     "shell.execute_reply.started": "2024-10-06T16:15:31.470994Z"
    },
    "tags": []
   },
   "outputs": [
    {
     "data": {
      "text/plain": [
       "array([[0.8764807]], dtype=float32)"
      ]
     },
     "execution_count": 40,
     "metadata": {},
     "output_type": "execute_result"
    }
   ],
   "source": [
    "cosine_similarity([embeddings_vacancy], [embeddings_resume_0])"
   ]
  },
  {
   "cell_type": "code",
   "execution_count": null,
   "id": "845daed2-adb2-49bb-bddd-f8ec93173699",
   "metadata": {},
   "outputs": [],
   "source": []
  }
 ],
 "metadata": {
  "kernelspec": {
   "display_name": "Python 3 (ipykernel)",
   "language": "python",
   "name": "python3"
  },
  "language_info": {
   "codemirror_mode": {
    "name": "ipython",
    "version": 3
   },
   "file_extension": ".py",
   "mimetype": "text/x-python",
   "name": "python",
   "nbconvert_exporter": "python",
   "pygments_lexer": "ipython3",
   "version": "3.11.9"
  }
 },
 "nbformat": 4,
 "nbformat_minor": 5
}
